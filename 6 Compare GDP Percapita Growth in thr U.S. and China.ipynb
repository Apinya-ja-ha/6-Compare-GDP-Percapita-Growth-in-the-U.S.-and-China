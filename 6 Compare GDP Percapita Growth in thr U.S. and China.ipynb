{
 "cells": [
  {
   "cell_type": "code",
   "execution_count": 1,
   "metadata": {},
   "outputs": [],
   "source": [
    "import pandas as pd\n",
    "from matplotlib import pyplot as plt "
   ]
  },
  {
   "cell_type": "code",
   "execution_count": 2,
   "metadata": {},
   "outputs": [
    {
     "data": {
      "text/html": [
       "<div>\n",
       "<style scoped>\n",
       "    .dataframe tbody tr th:only-of-type {\n",
       "        vertical-align: middle;\n",
       "    }\n",
       "\n",
       "    .dataframe tbody tr th {\n",
       "        vertical-align: top;\n",
       "    }\n",
       "\n",
       "    .dataframe thead th {\n",
       "        text-align: right;\n",
       "    }\n",
       "</style>\n",
       "<table border=\"1\" class=\"dataframe\">\n",
       "  <thead>\n",
       "    <tr style=\"text-align: right;\">\n",
       "      <th></th>\n",
       "      <th>country</th>\n",
       "      <th>continent</th>\n",
       "      <th>year</th>\n",
       "      <th>lifeExpectancy</th>\n",
       "      <th>population</th>\n",
       "      <th>gdpPerCapita</th>\n",
       "    </tr>\n",
       "  </thead>\n",
       "  <tbody>\n",
       "    <tr>\n",
       "      <th>0</th>\n",
       "      <td>Afghanistan</td>\n",
       "      <td>Asia</td>\n",
       "      <td>1952</td>\n",
       "      <td>28.801</td>\n",
       "      <td>8425333</td>\n",
       "      <td>779.445314</td>\n",
       "    </tr>\n",
       "    <tr>\n",
       "      <th>1</th>\n",
       "      <td>Afghanistan</td>\n",
       "      <td>Asia</td>\n",
       "      <td>1957</td>\n",
       "      <td>30.332</td>\n",
       "      <td>9240934</td>\n",
       "      <td>820.853030</td>\n",
       "    </tr>\n",
       "    <tr>\n",
       "      <th>2</th>\n",
       "      <td>Afghanistan</td>\n",
       "      <td>Asia</td>\n",
       "      <td>1962</td>\n",
       "      <td>31.997</td>\n",
       "      <td>10267083</td>\n",
       "      <td>853.100710</td>\n",
       "    </tr>\n",
       "    <tr>\n",
       "      <th>3</th>\n",
       "      <td>Afghanistan</td>\n",
       "      <td>Asia</td>\n",
       "      <td>1967</td>\n",
       "      <td>34.020</td>\n",
       "      <td>11537966</td>\n",
       "      <td>836.197138</td>\n",
       "    </tr>\n",
       "    <tr>\n",
       "      <th>4</th>\n",
       "      <td>Afghanistan</td>\n",
       "      <td>Asia</td>\n",
       "      <td>1972</td>\n",
       "      <td>36.088</td>\n",
       "      <td>13079460</td>\n",
       "      <td>739.981106</td>\n",
       "    </tr>\n",
       "  </tbody>\n",
       "</table>\n",
       "</div>"
      ],
      "text/plain": [
       "       country continent  year  lifeExpectancy  population  gdpPerCapita\n",
       "0  Afghanistan      Asia  1952          28.801     8425333    779.445314\n",
       "1  Afghanistan      Asia  1957          30.332     9240934    820.853030\n",
       "2  Afghanistan      Asia  1962          31.997    10267083    853.100710\n",
       "3  Afghanistan      Asia  1967          34.020    11537966    836.197138\n",
       "4  Afghanistan      Asia  1972          36.088    13079460    739.981106"
      ]
     },
     "execution_count": 2,
     "metadata": {},
     "output_type": "execute_result"
    }
   ],
   "source": [
    "data = pd.read_csv('countries.csv')\n",
    "data.head()"
   ]
  },
  {
   "cell_type": "code",
   "execution_count": 7,
   "metadata": {},
   "outputs": [
    {
     "data": {
      "text/html": [
       "<div>\n",
       "<style scoped>\n",
       "    .dataframe tbody tr th:only-of-type {\n",
       "        vertical-align: middle;\n",
       "    }\n",
       "\n",
       "    .dataframe tbody tr th {\n",
       "        vertical-align: top;\n",
       "    }\n",
       "\n",
       "    .dataframe thead th {\n",
       "        text-align: right;\n",
       "    }\n",
       "</style>\n",
       "<table border=\"1\" class=\"dataframe\">\n",
       "  <thead>\n",
       "    <tr style=\"text-align: right;\">\n",
       "      <th></th>\n",
       "      <th>country</th>\n",
       "      <th>continent</th>\n",
       "      <th>year</th>\n",
       "      <th>lifeExpectancy</th>\n",
       "      <th>population</th>\n",
       "      <th>gdpPerCapita</th>\n",
       "    </tr>\n",
       "  </thead>\n",
       "  <tbody>\n",
       "    <tr>\n",
       "      <th>1608</th>\n",
       "      <td>United States</td>\n",
       "      <td>Americas</td>\n",
       "      <td>1952</td>\n",
       "      <td>68.44</td>\n",
       "      <td>157553000</td>\n",
       "      <td>13990.48208</td>\n",
       "    </tr>\n",
       "    <tr>\n",
       "      <th>1609</th>\n",
       "      <td>United States</td>\n",
       "      <td>Americas</td>\n",
       "      <td>1957</td>\n",
       "      <td>69.49</td>\n",
       "      <td>171984000</td>\n",
       "      <td>14847.12712</td>\n",
       "    </tr>\n",
       "    <tr>\n",
       "      <th>1610</th>\n",
       "      <td>United States</td>\n",
       "      <td>Americas</td>\n",
       "      <td>1962</td>\n",
       "      <td>70.21</td>\n",
       "      <td>186538000</td>\n",
       "      <td>16173.14586</td>\n",
       "    </tr>\n",
       "    <tr>\n",
       "      <th>1611</th>\n",
       "      <td>United States</td>\n",
       "      <td>Americas</td>\n",
       "      <td>1967</td>\n",
       "      <td>70.76</td>\n",
       "      <td>198712000</td>\n",
       "      <td>19530.36557</td>\n",
       "    </tr>\n",
       "    <tr>\n",
       "      <th>1612</th>\n",
       "      <td>United States</td>\n",
       "      <td>Americas</td>\n",
       "      <td>1972</td>\n",
       "      <td>71.34</td>\n",
       "      <td>209896000</td>\n",
       "      <td>21806.03594</td>\n",
       "    </tr>\n",
       "  </tbody>\n",
       "</table>\n",
       "</div>"
      ],
      "text/plain": [
       "            country continent  year  lifeExpectancy  population  gdpPerCapita\n",
       "1608  United States  Americas  1952           68.44   157553000   13990.48208\n",
       "1609  United States  Americas  1957           69.49   171984000   14847.12712\n",
       "1610  United States  Americas  1962           70.21   186538000   16173.14586\n",
       "1611  United States  Americas  1967           70.76   198712000   19530.36557\n",
       "1612  United States  Americas  1972           71.34   209896000   21806.03594"
      ]
     },
     "execution_count": 7,
     "metadata": {},
     "output_type": "execute_result"
    }
   ],
   "source": [
    "us = data[data.country == 'United States']\n",
    "us.head()"
   ]
  },
  {
   "cell_type": "code",
   "execution_count": 9,
   "metadata": {},
   "outputs": [
    {
     "data": {
      "image/png": "[encoded data removed]",
      "text/plain": [
       "<Figure size 432x288 with 1 Axes>"
      ]
     },
     "metadata": {
      "needs_background": "light"
     },
     "output_type": "display_data"
    }
   ],
   "source": [
    "plt.plot(us.year, us.gdpPerCapita)\n",
    "plt.show()"
   ]
  },
  {
   "cell_type": "code",
   "execution_count": 10,
   "metadata": {},
   "outputs": [
    {
     "data": {
      "text/html": [
       "<div>\n",
       "<style scoped>\n",
       "    .dataframe tbody tr th:only-of-type {\n",
       "        vertical-align: middle;\n",
       "    }\n",
       "\n",
       "    .dataframe tbody tr th {\n",
       "        vertical-align: top;\n",
       "    }\n",
       "\n",
       "    .dataframe thead th {\n",
       "        text-align: right;\n",
       "    }\n",
       "</style>\n",
       "<table border=\"1\" class=\"dataframe\">\n",
       "  <thead>\n",
       "    <tr style=\"text-align: right;\">\n",
       "      <th></th>\n",
       "      <th>country</th>\n",
       "      <th>continent</th>\n",
       "      <th>year</th>\n",
       "      <th>lifeExpectancy</th>\n",
       "      <th>population</th>\n",
       "      <th>gdpPerCapita</th>\n",
       "    </tr>\n",
       "  </thead>\n",
       "  <tbody>\n",
       "    <tr>\n",
       "      <th>288</th>\n",
       "      <td>China</td>\n",
       "      <td>Asia</td>\n",
       "      <td>1952</td>\n",
       "      <td>44.00000</td>\n",
       "      <td>556263527</td>\n",
       "      <td>400.448611</td>\n",
       "    </tr>\n",
       "    <tr>\n",
       "      <th>289</th>\n",
       "      <td>China</td>\n",
       "      <td>Asia</td>\n",
       "      <td>1957</td>\n",
       "      <td>50.54896</td>\n",
       "      <td>637408000</td>\n",
       "      <td>575.987001</td>\n",
       "    </tr>\n",
       "    <tr>\n",
       "      <th>290</th>\n",
       "      <td>China</td>\n",
       "      <td>Asia</td>\n",
       "      <td>1962</td>\n",
       "      <td>44.50136</td>\n",
       "      <td>665770000</td>\n",
       "      <td>487.674018</td>\n",
       "    </tr>\n",
       "    <tr>\n",
       "      <th>291</th>\n",
       "      <td>China</td>\n",
       "      <td>Asia</td>\n",
       "      <td>1967</td>\n",
       "      <td>58.38112</td>\n",
       "      <td>754550000</td>\n",
       "      <td>612.705693</td>\n",
       "    </tr>\n",
       "    <tr>\n",
       "      <th>292</th>\n",
       "      <td>China</td>\n",
       "      <td>Asia</td>\n",
       "      <td>1972</td>\n",
       "      <td>63.11888</td>\n",
       "      <td>862030000</td>\n",
       "      <td>676.900092</td>\n",
       "    </tr>\n",
       "  </tbody>\n",
       "</table>\n",
       "</div>"
      ],
      "text/plain": [
       "    country continent  year  lifeExpectancy  population  gdpPerCapita\n",
       "288   China      Asia  1952        44.00000   556263527    400.448611\n",
       "289   China      Asia  1957        50.54896   637408000    575.987001\n",
       "290   China      Asia  1962        44.50136   665770000    487.674018\n",
       "291   China      Asia  1967        58.38112   754550000    612.705693\n",
       "292   China      Asia  1972        63.11888   862030000    676.900092"
      ]
     },
     "execution_count": 10,
     "metadata": {},
     "output_type": "execute_result"
    }
   ],
   "source": [
    "china = data[data.country == 'China']\n",
    "china.head()"
   ]
  },
  {
   "cell_type": "code",
   "execution_count": 14,
   "metadata": {},
   "outputs": [
    {
     "data": {
      "image/png": "[encoded data removed]",
      "text/plain": [
       "<Figure size 432x288 with 1 Axes>"
      ]
     },
     "metadata": {
      "needs_background": "light"
     },
     "output_type": "display_data"
    }
   ],
   "source": [
    "plt.plot(us.year, us.gdpPerCapita)\n",
    "plt.plot(china.year, china.gdpPerCapita)\n",
    "plt.legend(['United States', 'China'])\n",
    "plt.xlabel('year')\n",
    "plt.ylabel('GDP Per Capita')\n",
    "plt.show()"
   ]
  },
  {
   "cell_type": "code",
   "execution_count": 15,
   "metadata": {},
   "outputs": [],
   "source": [
    "#its hard to know cause it shows in the absolute value indstand of  the relative term"
   ]
  },
  {
   "cell_type": "code",
   "execution_count": 17,
   "metadata": {},
   "outputs": [
    {
     "data": {
      "text/plain": [
       "1608    13990.48208\n",
       "1609    14847.12712\n",
       "1610    16173.14586\n",
       "1611    19530.36557\n",
       "1612    21806.03594\n",
       "1613    24072.63213\n",
       "1614    25009.55914\n",
       "1615    29884.35041\n",
       "1616    32003.93224\n",
       "1617    35767.43303\n",
       "1618    39097.09955\n",
       "1619    42951.65309\n",
       "Name: gdpPerCapita, dtype: float64"
      ]
     },
     "execution_count": 17,
     "metadata": {},
     "output_type": "execute_result"
    }
   ],
   "source": [
    "us.gdpPerCapita"
   ]
  },
  {
   "cell_type": "code",
   "execution_count": 18,
   "metadata": {},
   "outputs": [
    {
     "data": {
      "text/plain": [
       "13990.482080000002"
      ]
     },
     "execution_count": 18,
     "metadata": {},
     "output_type": "execute_result"
    }
   ],
   "source": [
    "us.gdpPerCapita.iloc[0]"
   ]
  },
  {
   "cell_type": "code",
   "execution_count": 16,
   "metadata": {},
   "outputs": [
    {
     "data": {
      "image/png": "[encoded data removed]",
      "text/plain": [
       "<Figure size 432x288 with 1 Axes>"
      ]
     },
     "metadata": {
      "needs_background": "light"
     },
     "output_type": "display_data"
    }
   ],
   "source": [
    "plt.plot(us.year, us.gdpPerCapita/us.gdpPerCapita.iloc[0]*100)\n",
    "plt.plot(china.year, china.gdpPerCapita/china.gdpPerCapita.iloc[0]*100)\n",
    "plt.legend(['United States', 'China'])\n",
    "plt.xlabel('year')\n",
    "plt.ylabel('Growth in GDP Per Capita')\n",
    "plt.show()"
   ]
  },
  {
   "cell_type": "code",
   "execution_count": 19,
   "metadata": {},
   "outputs": [],
   "source": [
    "#or can induce the variable first\n",
    "#ex. china_growth=china.gdpPerCapita/china.gdpPerCapita.iloc[0]*100"
   ]
  },
  {
   "cell_type": "code",
   "execution_count": 20,
   "metadata": {},
   "outputs": [],
   "source": [
    "#from this graph means gdp growth in China is much rapid than US"
   ]
  },
  {
   "cell_type": "code",
   "execution_count": null,
   "metadata": {},
   "outputs": [],
   "source": []
  },
  {
   "cell_type": "code",
   "execution_count": null,
   "metadata": {},
   "outputs": [],
   "source": []
  }
 ],
 "metadata": {
  "kernelspec": {
   "display_name": "Python 3",
   "language": "python",
   "name": "python3"
  },
  "language_info": {
   "codemirror_mode": {
    "name": "ipython",
    "version": 3
   },
   "file_extension": ".py",
   "mimetype": "text/x-python",
   "name": "python",
   "nbconvert_exporter": "python",
   "pygments_lexer": "ipython3",
   "version": "3.7.0"
  }
 },
 "nbformat": 4,
 "nbformat_minor": 2
}
